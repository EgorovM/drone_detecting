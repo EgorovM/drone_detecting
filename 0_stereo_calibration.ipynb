{
 "cells": [
  {
   "cell_type": "code",
   "execution_count": null,
   "id": "63f89a7c-c21a-460b-aeb5-fc3087a5b497",
   "metadata": {},
   "outputs": [],
   "source": [
    "def pictures_for_calibrate_camera():\n",
    "    import time\n",
    "    \n",
    "    for i in range(20):\n",
    "        time.sleep(3)\n",
    "        \n",
    "        frame0, frame1 = get_pair_images()\n",
    "        \n",
    "        clear_output(wait=True)\n",
    "        _, axes = plt.subplots(1, 2, figsize=(16, 9))\n",
    "        axes[0].imshow(frame0)\n",
    "        axes[1].imshow(frame1)\n",
    "        plt.show()\n",
    "        \n",
    "        cv2.imwrite(f'calibrate_img/LEFT/{i}.JPG', frame0)\n",
    "        cv2.imwrite(f'calibrate_img/RIGHT/{i}.JPG', frame1)"
   ]
  }
 ],
 "metadata": {
  "kernelspec": {
   "display_name": "Python 3 (ipykernel)",
   "language": "python",
   "name": "python3"
  },
  "language_info": {
   "codemirror_mode": {
    "name": "ipython",
    "version": 3
   },
   "file_extension": ".py",
   "mimetype": "text/x-python",
   "name": "python",
   "nbconvert_exporter": "python",
   "pygments_lexer": "ipython3",
   "version": "3.8.2"
  }
 },
 "nbformat": 4,
 "nbformat_minor": 5
}
