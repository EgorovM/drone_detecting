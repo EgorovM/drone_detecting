{
 "cells": [
  {
   "cell_type": "code",
   "execution_count": 1,
   "id": "2c05336a-2649-4052-b26a-06ec5ac0e284",
   "metadata": {},
   "outputs": [],
   "source": [
    "import cv2\n",
    "import numpy as np\n",
    "import os\n",
    "import glob\n",
    "\n",
    "import matplotlib.pyplot as plt"
   ]
  },
  {
   "cell_type": "markdown",
   "id": "ba9c27b5-5d6c-479e-9616-d9c6fe3c0c55",
   "metadata": {
    "tags": []
   },
   "source": [
    "### save files"
   ]
  },
  {
   "cell_type": "code",
   "execution_count": 14,
   "id": "06f735b1-c100-436e-bcbf-be523735d955",
   "metadata": {},
   "outputs": [],
   "source": [
    "def save_from_left():\n",
    "    video = cv2.VideoCapture(1)\n",
    "    _, frame = video.read()\n",
    "    \n",
    "    image_count = len(glob.glob('./images/*.jpg'))\n",
    "    \n",
    "    cv2.imwrite(f'images/{image_count + 1}.jpg', frame)"
   ]
  },
  {
   "cell_type": "code",
   "execution_count": 15,
   "id": "b6a4907b-5fce-49eb-8c9a-54626340c1ec",
   "metadata": {},
   "outputs": [],
   "source": [
    "save_from_left()"
   ]
  },
  {
   "cell_type": "code",
   "execution_count": 16,
   "id": "11917b4c-028e-4623-8a17-abb20498179c",
   "metadata": {},
   "outputs": [
    {
     "ename": "error",
     "evalue": "OpenCV(4.5.4) /Users/runner/work/opencv-python/opencv-python/opencv/modules/calib3d/src/calibration.cpp:3694: error: (-215:Assertion failed) nimages > 0 in function 'calibrateCameraRO'\n",
     "output_type": "error",
     "traceback": [
      "\u001b[0;31m---------------------------------------------------------------------------\u001b[0m",
      "\u001b[0;31merror\u001b[0m                                     Traceback (most recent call last)",
      "\u001b[0;32m/var/folders/yb/ysqh2wxs6v1_4q_92fnn6q380000gn/T/ipykernel_75166/4033727601.py\u001b[0m in \u001b[0;36m<module>\u001b[0;34m\u001b[0m\n\u001b[1;32m     59\u001b[0m \u001b[0mобнаруженные\u001b[0m \u001b[0mуглы\u001b[0m \u001b[0;34m(\u001b[0m\u001b[0mimgpoints\u001b[0m\u001b[0;34m)\u001b[0m\u001b[0;34m\u001b[0m\u001b[0;34m\u001b[0m\u001b[0m\n\u001b[1;32m     60\u001b[0m \"\"\"\n\u001b[0;32m---> 61\u001b[0;31m \u001b[0mret\u001b[0m\u001b[0;34m,\u001b[0m \u001b[0mmtx\u001b[0m\u001b[0;34m,\u001b[0m \u001b[0mdist\u001b[0m\u001b[0;34m,\u001b[0m \u001b[0mrvecs\u001b[0m\u001b[0;34m,\u001b[0m \u001b[0mtvecs\u001b[0m \u001b[0;34m=\u001b[0m \u001b[0mcv2\u001b[0m\u001b[0;34m.\u001b[0m\u001b[0mcalibrateCamera\u001b[0m\u001b[0;34m(\u001b[0m\u001b[0mobjpoints\u001b[0m\u001b[0;34m,\u001b[0m \u001b[0mimgpoints\u001b[0m\u001b[0;34m,\u001b[0m \u001b[0mgray\u001b[0m\u001b[0;34m.\u001b[0m\u001b[0mshape\u001b[0m\u001b[0;34m[\u001b[0m\u001b[0;34m:\u001b[0m\u001b[0;34m:\u001b[0m\u001b[0;34m-\u001b[0m\u001b[0;36m1\u001b[0m\u001b[0;34m]\u001b[0m\u001b[0;34m,\u001b[0m \u001b[0;32mNone\u001b[0m\u001b[0;34m,\u001b[0m \u001b[0;32mNone\u001b[0m\u001b[0;34m)\u001b[0m\u001b[0;34m\u001b[0m\u001b[0;34m\u001b[0m\u001b[0m\n\u001b[0m\u001b[1;32m     62\u001b[0m \u001b[0;34m\u001b[0m\u001b[0m\n\u001b[1;32m     63\u001b[0m \u001b[0mprint\u001b[0m\u001b[0;34m(\u001b[0m\u001b[0;34m\"Camera matrix : \\n\"\u001b[0m\u001b[0;34m)\u001b[0m\u001b[0;34m\u001b[0m\u001b[0;34m\u001b[0m\u001b[0m\n",
      "\u001b[0;31merror\u001b[0m: OpenCV(4.5.4) /Users/runner/work/opencv-python/opencv-python/opencv/modules/calib3d/src/calibration.cpp:3694: error: (-215:Assertion failed) nimages > 0 in function 'calibrateCameraRO'\n"
     ]
    }
   ],
   "source": [
    "#!/usr/bin/env python\n",
    "\n",
    "\n",
    "\n",
    "# Определение размеров шахматной доски\n",
    "CHECKERBOARD = (6,9)\n",
    "criteria = (cv2.TERM_CRITERIA_EPS + cv2.TERM_CRITERIA_MAX_ITER, 30, 0.001)\n",
    "\n",
    "# Создание вектора для хранения векторов трехмерных точек для каждого изображения шахматной доски\n",
    "objpoints = []\n",
    "# Создание вектора для хранения векторов 2D точек для каждого изображения шахматной доски\n",
    "imgpoints = [] \n",
    "\n",
    "\n",
    "# Определение мировых координат для 3D точек\n",
    "objp = np.zeros((1, CHECKERBOARD[0] * CHECKERBOARD[1], 3), np.float32)\n",
    "objp[0,:,:2] = np.mgrid[0:CHECKERBOARD[0], 0:CHECKERBOARD[1]].T.reshape(-1, 2)\n",
    "prev_img_shape = None\n",
    "\n",
    "# Извлечение пути отдельного изображения, хранящегося в данном каталоге\n",
    "images = glob.glob('./images/*.jpg')\n",
    "\n",
    "for fname in images:\n",
    "    img = cv2.imread(fname)\n",
    "    gray = cv2.cvtColor(img,cv2.COLOR_BGR2GRAY)\n",
    "    # Найти углы шахматной доски\n",
    "    # Если на изображении найдено нужное количество углов, тогда ret = true\n",
    "    ret, corners = cv2.findChessboardCorners(\n",
    "        gray, \n",
    "        CHECKERBOARD, \n",
    "        cv2.CALIB_CB_ADAPTIVE_THRESH + cv2.CALIB_CB_FAST_CHECK + cv2.CALIB_CB_NORMALIZE_IMAGE\n",
    "    )\n",
    "    \n",
    "    \"\"\"\n",
    "    Если желаемый номер угла обнаружен,\n",
    "    уточняем координаты пикселей и отображаем\n",
    "    их на изображениях шахматной доски\n",
    "    \"\"\"\n",
    "    if ret == True:\n",
    "        objpoints.append(objp)\n",
    "        # уточнение координат пикселей для заданных 2d точек.\n",
    "        corners2 = cv2.cornerSubPix(gray, corners, (11,11),(-1,-1), criteria)\n",
    "        \n",
    "        imgpoints.append(corners2)\n",
    "\n",
    "        # Нарисовать и отобразить углы\n",
    "        img = cv2.drawChessboardCorners(img, CHECKERBOARD, corners2, ret)\n",
    "    \n",
    "        plt.imshow(img)\n",
    "        plt.show()\n",
    "    \n",
    "\n",
    "h,w = img.shape[:2]\n",
    "\n",
    "\"\"\"\n",
    "Выполнение калибровки камеры с помощью\n",
    "Передача значения известных трехмерных точек (объектов)\n",
    "и соответствующие пиксельные координаты\n",
    "обнаруженные углы (imgpoints)\n",
    "\"\"\"\n",
    "ret, mtx, dist, rvecs, tvecs = cv2.calibrateCamera(objpoints, imgpoints, gray.shape[::-1], None, None)\n",
    "\n",
    "print(\"Camera matrix : \\n\")\n",
    "print(mtx)\n",
    "print(\"dist : \\n\")\n",
    "print(dist)\n",
    "print(\"rvecs : \\n\")\n",
    "print(rvecs)\n",
    "print(\"tvecs : \\n\")\n",
    "print(tvecs)"
   ]
  },
  {
   "cell_type": "code",
   "execution_count": null,
   "id": "da325aaf-f745-4b01-9929-cd8c855933e4",
   "metadata": {},
   "outputs": [],
   "source": []
  }
 ],
 "metadata": {
  "kernelspec": {
   "display_name": "Python 3 (ipykernel)",
   "language": "python",
   "name": "python3"
  },
  "language_info": {
   "codemirror_mode": {
    "name": "ipython",
    "version": 3
   },
   "file_extension": ".py",
   "mimetype": "text/x-python",
   "name": "python",
   "nbconvert_exporter": "python",
   "pygments_lexer": "ipython3",
   "version": "3.8.2"
  }
 },
 "nbformat": 4,
 "nbformat_minor": 5
}
