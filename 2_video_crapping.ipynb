{
 "cells": [
  {
   "cell_type": "code",
   "execution_count": 38,
   "id": "a91c6665-5d47-4c23-bb99-a410cf6c7dd3",
   "metadata": {},
   "outputs": [],
   "source": [
    "import cv2\n",
    "from tqdm.notebook import tqdm\n",
    "\n",
    "import matplotlib.pyplot as plt\n",
    "\n",
    "def get_video_frames(video_path, per_count=5):\n",
    "    vidcap = cv2.VideoCapture(video_path)\n",
    "    \n",
    "    frame_count = int(vidcap.get(cv2.CAP_PROP_FRAME_COUNT)) - 1\n",
    "    success, image = vidcap.read()\n",
    "    images = []\n",
    "    \n",
    "    for i in tqdm(range(frame_count), desc='video_parsing'):  \n",
    "        success, image = vidcap.read()\n",
    "        \n",
    "        if i % per_count == per_count - 1:\n",
    "            images.append(image)\n",
    "        \n",
    "    return images"
   ]
  },
  {
   "cell_type": "code",
   "execution_count": 58,
   "id": "7a0bdd00-8291-4882-b820-ae0743bff9f0",
   "metadata": {},
   "outputs": [],
   "source": [
    "PER_FRAME = 5"
   ]
  },
  {
   "cell_type": "code",
   "execution_count": 39,
   "id": "42faea18-021f-4623-8b39-62d811bfd753",
   "metadata": {},
   "outputs": [
    {
     "data": {
      "application/vnd.jupyter.widget-view+json": {
       "model_id": "5768defdb6cf49219e33ebf92c3a7ee5",
       "version_major": 2,
       "version_minor": 0
      },
      "text/plain": [
       "video_parsing:   0%|          | 0/5484 [00:00<?, ?it/s]"
      ]
     },
     "metadata": {},
     "output_type": "display_data"
    }
   ],
   "source": [
    "frames1 = get_video_frames('videos/Tello_cam_1_short.mp4', PER_FRAME)"
   ]
  },
  {
   "cell_type": "code",
   "execution_count": 40,
   "id": "d4cca46a-55e6-4105-a950-b548e87d2b3d",
   "metadata": {},
   "outputs": [],
   "source": [
    "frames1 = frames1[138:]"
   ]
  },
  {
   "cell_type": "code",
   "execution_count": 41,
   "id": "df4be291-e8eb-4e97-8141-8dee77df2c94",
   "metadata": {},
   "outputs": [
    {
     "data": {
      "application/vnd.jupyter.widget-view+json": {
       "model_id": "9683919ed8ee45d092030666f8a3cb95",
       "version_major": 2,
       "version_minor": 0
      },
      "text/plain": [
       "video_parsing:   0%|          | 0/5394 [00:00<?, ?it/s]"
      ]
     },
     "metadata": {},
     "output_type": "display_data"
    }
   ],
   "source": [
    "frames2 = get_video_frames('videos/Tello_cam_2_short.mp4', PER_FRAME)"
   ]
  },
  {
   "cell_type": "code",
   "execution_count": 42,
   "id": "b88236f2-e7c8-4454-beb7-3060d1ed130a",
   "metadata": {},
   "outputs": [],
   "source": [
    "frames2 = frames2[138:]"
   ]
  },
  {
   "cell_type": "code",
   "execution_count": 62,
   "id": "0582ae22-de61-4459-9dd0-518ba7ca18f5",
   "metadata": {},
   "outputs": [],
   "source": [
    "def save_frames(frames, cam_id):\n",
    "    for i, img in tqdm(enumerate(frames)):\n",
    "        cv2.imwrite('frames/%d_cam_frame_%d.jpg' % (cam_id, i * PER_FRAME), img)"
   ]
  },
  {
   "cell_type": "code",
   "execution_count": 60,
   "id": "4b953fdc-824b-4c0d-ae42-cb85e285c23f",
   "metadata": {},
   "outputs": [],
   "source": [
    "save_frames(frames1, 1)"
   ]
  },
  {
   "cell_type": "code",
   "execution_count": 61,
   "id": "5ae3e333-5b2e-4575-bb0b-2082f56e7fa4",
   "metadata": {},
   "outputs": [],
   "source": [
    "save_frames(frames2, 2)"
   ]
  },
  {
   "cell_type": "code",
   "execution_count": null,
   "id": "85619fba-7e98-4b35-8d6e-5ba4c0bb1f18",
   "metadata": {},
   "outputs": [],
   "source": []
  }
 ],
 "metadata": {
  "kernelspec": {
   "display_name": "Python 3 (ipykernel)",
   "language": "python",
   "name": "python3"
  },
  "language_info": {
   "codemirror_mode": {
    "name": "ipython",
    "version": 3
   },
   "file_extension": ".py",
   "mimetype": "text/x-python",
   "name": "python",
   "nbconvert_exporter": "python",
   "pygments_lexer": "ipython3",
   "version": "3.8.2"
  }
 },
 "nbformat": 4,
 "nbformat_minor": 5
}
